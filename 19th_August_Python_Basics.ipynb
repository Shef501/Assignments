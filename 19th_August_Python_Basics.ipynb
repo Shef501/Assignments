{
  "nbformat": 4,
  "nbformat_minor": 0,
  "metadata": {
    "colab": {
      "provenance": []
    },
    "kernelspec": {
      "name": "python3",
      "display_name": "Python 3"
    },
    "language_info": {
      "name": "python"
    }
  },
  "cells": [
    {
      "cell_type": "markdown",
      "source": [
        "### (Python Basic variables)\n",
        "Question 1"
      ],
      "metadata": {
        "id": "3CLLvoOxRZSn"
      }
    },
    {
      "cell_type": "code",
      "source": [
        "a = 10\n",
        "b = 20\n",
        "a= a+b\n",
        "b= a-b\n",
        "a= a-b\n",
        "# a,b = b,a\n",
        "print(a)\n",
        "print(b)"
      ],
      "metadata": {
        "colab": {
          "base_uri": "https://localhost:8080/"
        },
        "id": "04tsC2who-li",
        "outputId": "0556d5fa-cddf-401c-833b-9fbb88be90fa"
      },
      "execution_count": null,
      "outputs": [
        {
          "output_type": "stream",
          "name": "stdout",
          "text": [
            "20\n",
            "10\n"
          ]
        }
      ]
    },
    {
      "cell_type": "markdown",
      "source": [
        " ### Question 2"
      ],
      "metadata": {
        "id": "EYFWKE0_Rv7w"
      }
    },
    {
      "cell_type": "code",
      "source": [
        "l = int(input(\"Enter length of rectangle:\"))\n",
        "b = int(input(\"Enter breadth of rectangle:\"))\n",
        "area = l*b\n",
        "print(\"Area of rectangle is:\" , area)"
      ],
      "metadata": {
        "colab": {
          "base_uri": "https://localhost:8080/"
        },
        "id": "vrxtyZEIeHyo",
        "outputId": "c5570f6c-f92a-4dad-a961-1a9ad7a58989"
      },
      "execution_count": null,
      "outputs": [
        {
          "output_type": "stream",
          "name": "stdout",
          "text": [
            "Enter length of rectangle:10\n",
            "Enter breadth of rectangle:2\n",
            "Area of rectangle is: 20\n"
          ]
        }
      ]
    },
    {
      "cell_type": "markdown",
      "source": [
        "### Question 3"
      ],
      "metadata": {
        "id": "wV6MUoAeSObI"
      }
    },
    {
      "cell_type": "code",
      "source": [
        "C = int(input(\"Enter temperature in Celsius:\"))\n",
        "F = C*(9/5) + 32\n",
        "print(\"Temperature in fahrenheit is\", F)"
      ],
      "metadata": {
        "colab": {
          "base_uri": "https://localhost:8080/"
        },
        "id": "nYUVhYHoerQ1",
        "outputId": "ead3e81b-c8a2-45e5-a3f8-9763ac47eb2d"
      },
      "execution_count": null,
      "outputs": [
        {
          "output_type": "stream",
          "name": "stdout",
          "text": [
            "Enter temperature in Celsius:2\n",
            "Temperature in fahrenheit is 35.6\n"
          ]
        }
      ]
    },
    {
      "cell_type": "markdown",
      "source": [
        "### (String based questions)\n",
        "Question 1"
      ],
      "metadata": {
        "id": "SO-WOEDSS0Bf"
      }
    },
    {
      "cell_type": "code",
      "source": [
        "s1 = str(input(\"Enter any string:\"))\n",
        "l = len(s1)\n",
        "print(\"Length of string is:\", l)"
      ],
      "metadata": {
        "colab": {
          "base_uri": "https://localhost:8080/"
        },
        "id": "xpQwCSrcf7Xz",
        "outputId": "a919bc00-5a11-48d3-e3a1-e45aa2b7c536"
      },
      "execution_count": null,
      "outputs": [
        {
          "output_type": "stream",
          "name": "stdout",
          "text": [
            "Enter any string:Hello\n",
            "Length of string is: 5\n"
          ]
        }
      ]
    },
    {
      "cell_type": "markdown",
      "source": [
        "### Question 2"
      ],
      "metadata": {
        "id": "E6vFHi08TG_f"
      }
    },
    {
      "cell_type": "code",
      "source": [
        "s = str(input(\"Enter a sentence:\"))\n",
        "vowel_string = ['a','e','i','o','u']\n",
        "count = 0\n",
        "for i in range(len(s)):\n",
        "  if s.lower()[i] in vowel_string:\n",
        "    count += 1\n",
        "print(count)"
      ],
      "metadata": {
        "colab": {
          "base_uri": "https://localhost:8080/"
        },
        "id": "PER9lvNAgTQw",
        "outputId": "e1b8afeb-bc01-4498-c004-0ed9c215ffe7"
      },
      "execution_count": null,
      "outputs": [
        {
          "output_type": "stream",
          "name": "stdout",
          "text": [
            "Enter a sentence:Hello\n",
            "2\n"
          ]
        }
      ]
    },
    {
      "cell_type": "markdown",
      "source": [
        "### Question 3"
      ],
      "metadata": {
        "id": "zEyAez2nTtfo"
      }
    },
    {
      "cell_type": "code",
      "source": [
        "s1 = str(input(\"Enter any string:\"))\n",
        "print(\"Reverse string is:\", s1[::-1])\n"
      ],
      "metadata": {
        "colab": {
          "base_uri": "https://localhost:8080/"
        },
        "id": "DwPw9dnDqwJ_",
        "outputId": "904560a3-dc26-4911-dac5-5c5b99dda71f"
      },
      "execution_count": null,
      "outputs": [
        {
          "output_type": "stream",
          "name": "stdout",
          "text": [
            "Enter any string:Hello\n",
            "Reverse string is: olleH\n"
          ]
        }
      ]
    },
    {
      "cell_type": "markdown",
      "source": [
        "### Question 4"
      ],
      "metadata": {
        "id": "ZdtJ4fNWUXDh"
      }
    },
    {
      "cell_type": "code",
      "source": [
        "s = str(input(\"Enter a sentence:\"))\n",
        "if s == s[::-1]:\n",
        "  print('palindrome')\n",
        "else:\n",
        "  print('not a palindrome')"
      ],
      "metadata": {
        "colab": {
          "base_uri": "https://localhost:8080/"
        },
        "id": "mXa7bGTsp3DG",
        "outputId": "e20112fb-be6f-4e13-c564-4642f7b17c5f"
      },
      "execution_count": null,
      "outputs": [
        {
          "output_type": "stream",
          "name": "stdout",
          "text": [
            "Enter a sentence:Hello\n",
            "not a palindrome\n"
          ]
        }
      ]
    },
    {
      "cell_type": "markdown",
      "source": [
        "### Question 5"
      ],
      "metadata": {
        "id": "u6R-3G2oUdRn"
      }
    },
    {
      "cell_type": "code",
      "source": [
        "'''approach 1 using replace function\n",
        "sample_string = \"Sky is Blue\"\n",
        "sample_string = sample_string.replace(\" \",\"\")\n",
        "print(sample_string)'''\n",
        "\n",
        "# approach 2 using for loop\n",
        "sample_string = \"Sky is Blue\"\n",
        "result = \"\"\n",
        "for i in range(len(sample_string)):\n",
        "  if (sample_string[i] == \" \"):\n",
        "    pass\n",
        "  else:\n",
        "    result += sample_string[i]\n",
        "print(result)"
      ],
      "metadata": {
        "colab": {
          "base_uri": "https://localhost:8080/"
        },
        "id": "ThsoY4XDKl_W",
        "outputId": "360b2dce-b291-44bb-e080-25a3e312e8e2"
      },
      "execution_count": null,
      "outputs": [
        {
          "output_type": "stream",
          "name": "stdout",
          "text": [
            "SkyisBlue\n"
          ]
        }
      ]
    },
    {
      "cell_type": "code",
      "source": [],
      "metadata": {
        "id": "UkH2svupVcuX"
      },
      "execution_count": null,
      "outputs": []
    }
  ]
}